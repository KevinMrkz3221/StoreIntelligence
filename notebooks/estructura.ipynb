{
 "cells": [
  {
   "cell_type": "code",
   "execution_count": null,
   "metadata": {},
   "outputs": [],
   "source": [
    "import requests\n",
    "from bs4 import BeautifulSoup\n",
    "from time import sleep\n",
    "import pandas as pd\n",
    "#3.6\n",
    "from dataclasses import dataclass, field\n",
    "from typing import List, Dict\n",
    "from datetime import datetime"
   ]
  },
  {
   "cell_type": "markdown",
   "metadata": {},
   "source": [
    "# Modelos"
   ]
  },
  {
   "cell_type": "code",
   "execution_count": null,
   "metadata": {},
   "outputs": [],
   "source": [
    "from sqlalchemy import create_engine, Column, Integer, String, Float, Boolean\n",
    "from sqlalchemy.orm import sessionmaker, declarative_base\n",
    "\n",
    "engine = create_engine('sqlite:///top.db', echo=True)\n",
    "\n",
    "class Logger:\n",
    "    def __init__(self, filename):\n",
    "        self.filename = filename\n",
    "        self.log('Init')\n",
    "        \n",
    "    def log(self, message):\n",
    "        timestamp = datetime.now().strftime(\"%Y-%m-%d %H:%M:%S\")\n",
    "        with open(self.filename, \"a\") as file:\n",
    "            file.write(f\"[{timestamp}] {message}\\n\")\n",
    "\n",
    "Base = declarative_base()\n",
    "class Product(Base):\n",
    "    __tablename__ = 'product'\n",
    "    id = Column(Integer, primary_key=True)\n",
    "    name = Column(String)\n",
    "    price = Column(Float)\n",
    "    product_url = Column(String)\n",
    "    product_img = Column(String)\n",
    "    department = Column(String)\n",
    "    in_stock = Column(Boolean)\n",
    "\n",
    "    def to_dict(self):\n",
    "        return {\n",
    "            'id': self.id,\n",
    "            'name': self.name,\n",
    "            'price': self.price,\n",
    "            'product_url': self.product_url,\n",
    "            'product_img': self.product_img,\n",
    "            'department': self.department,\n",
    "            'in_stock': self.in_stock\n",
    "        }\n",
    "\n",
    "# class Department(Base):\n",
    "#     __tablename__ = 'department'\n",
    "#     id = Column\n",
    "Base.metadata.create_all(engine)\n"
   ]
  },
  {
   "cell_type": "code",
   "execution_count": null,
   "metadata": {},
   "outputs": [],
   "source": [
    "@dataclass\n",
    "class Department:\n",
    "    name: str\n",
    "    url: str\n",
    "    products: List[Product] = field(default_factory=list)\n",
    "    pages: List = field(default_factory=list)\n",
    "    soup: BeautifulSoup = None\n",
    "\n",
    "    def setSoup(self, response_text):\n",
    "        self.soup = BeautifulSoup(response_text, 'html.parser')\n",
    "\n",
    "    def  getPageNumber(self):\n",
    "        pages = self.soup.find('ul', 'a-pagination')\n",
    "        self.pages = pages.find_all('li')[2:-1]\n",
    "\n",
    "    def getPageElements(self):\n",
    "        # Obtener todos los cards\n",
    "        cards = self.soup.find_all('div', id='gridItemRoot')\n",
    "\n",
    "        for card in cards:\n",
    "            try:\n",
    "                image = card.find('img')['src']\n",
    "            except:\n",
    "                image = ''\n",
    "\n",
    "            try:\n",
    "                name = card.find_all('a', 'a-link-normal')[1].find('span').find('div').text\n",
    "            except:\n",
    "                name = ''\n",
    "\n",
    "            try:\n",
    "                price = card.find('span', 'p13n-sc-price')\n",
    "                price = float(price.text.replace('$', '').replace(',', ''))\n",
    "                stock = True\n",
    "            except AttributeError:\n",
    "                try:\n",
    "                    price = card.find('span', class_='_cDEzb_p13n-sc-price_3mJ9Z')\n",
    "                    price = float(price.text.replace('$', '').replace(',', ''))\n",
    "                    stock = True\n",
    "                except:\n",
    "                    price = 0.0\n",
    "                    stock = False\n",
    "\n",
    "     \n",
    "            \n",
    "\n",
    "            element = Product(name=name, \n",
    "                              price=price, \n",
    "                              product_url='https://www.amazon.com.mx/' + card.find_all('a', 'a-link-normal')[1]['href'], \n",
    "                              product_img=image,\n",
    "                              department = self.name,\n",
    "                              in_stock = stock\n",
    "                    )\n",
    "\n",
    "            self.products.append(element)\n",
    "\n",
    "    def getAllElements(self):\n",
    "        headers = {'User-Agent': 'Mozilla/5.0 (Macintosh; Intel Mac OS X 10_10_1) AppleWebKit/537.36 (KHTML, like Gecko) Chrome/39.0.2171.95 Safari/537.36'}\n",
    "\n",
    "        self.getPageElements()\n",
    "        print(self.page_no)\n",
    "        for element in self.page_no:\n",
    "\n",
    "            response = requests.get('https://www.amazon.com.mx'+ element.find('a')['href'], headers=headers) \n",
    "            \n",
    "            while response.status_code != 200:\n",
    "                response = requests.get('https://www.amazon.com.mx'+  element.find('a')['href'], headers=headers) \n",
    "                print(response.status_code,' || ', 'https://www.amazon.com.mx'+ element.find('a')['href'])\n",
    "                sleep(3)\n",
    "\n",
    "            self.setSoup(response_text=response.text)\n",
    "            self.getPageElements()\n",
    "\n",
    "\n",
    "\n",
    "\n",
    "\n",
    "        \n",
    "    "
   ]
  },
  {
   "cell_type": "markdown",
   "metadata": {},
   "source": [
    "# Main Code"
   ]
  },
  {
   "cell_type": "code",
   "execution_count": null,
   "metadata": {},
   "outputs": [],
   "source": [
    "logger = Logger('test.log')"
   ]
  },
  {
   "cell_type": "code",
   "execution_count": null,
   "metadata": {},
   "outputs": [],
   "source": [
    "### Petición get\n",
    "URL = 'https://www.amazon.com.mx/gp/bestsellers/?ref_=nav_cs_bestsellers'\n",
    "headers = {\n",
    "    'User-Agent': 'Mozilla/5.0 (Windows NT 10.0; Win64; x64; rv:97.0) Gecko/20100101 Firefox/97.0',\n",
    "    'Accept': 'text/html',\n",
    "    'Accept-Language': 'es-ES,es;q=0.9,en;q=0.8',\n",
    "    'Referer': 'https://www.example.com',\n",
    "    'Connection': 'close'\n",
    "}\n",
    "\n",
    "response = requests.get(URL, headers=headers)\n",
    "logger.log(str(response.status_code) + ' | Best Sellers')\n",
    "while response.status_code != 200:\n",
    "    response = requests.get(URL, headers=headers)\n",
    "    logger.log(str(response.status_code) + ' | Best Sellers')\n",
    "    if response.status_code == 200:\n",
    "        break\n",
    "    sleep(3)\n"
   ]
  },
  {
   "cell_type": "code",
   "execution_count": null,
   "metadata": {},
   "outputs": [],
   "source": [
    "### Primer request a pagina de Amazon best sellers\n",
    "soup = BeautifulSoup(response.text, 'html.parser')\n",
    "headers = soup.find_all('div', class_='a-carousel-header-row')"
   ]
  },
  {
   "cell_type": "code",
   "execution_count": null,
   "metadata": {},
   "outputs": [],
   "source": [
    "## Obtiene la lista de departamentos dentro de los mas vendidos dentro de amazon\n",
    "## Se crea el objeto departamento\n",
    "## Guarda los departamentos en una lista\n",
    "department_list = []\n",
    "for header in headers:\n",
    "    query = header.find('a')\n",
    "    department_list.append(\n",
    "        Department(\n",
    "            str(query['aria-label'].replace(' - Ver más', '')),\n",
    "            'https://www.amazon.com.mx' + str(query['href'])\n",
    "        )\n",
    "    )\n",
    "\n",
    "department_list"
   ]
  },
  {
   "cell_type": "markdown",
   "metadata": {},
   "source": [
    "## Scraping de cada de partamento"
   ]
  },
  {
   "cell_type": "code",
   "execution_count": null,
   "metadata": {},
   "outputs": [],
   "source": [
    "## Itera por cada departamento detectado dentro de la pagina\n",
    "## hace un request hasta que este devuelva un 200 ya que amazon puede enviarte diferentes status_codes\n",
    "## Si la petición get no es success no vamos a poder hacer el scraping por lo que se haran las peticiones cada 3 segundos en caso de que no \n",
    "## Sea success\n",
    "for department in department_list:\n",
    "    print(f'================{department.name}================')\n",
    "    response = requests.get(url=department.url)\n",
    "\n",
    "    while response.status_code != 200:\n",
    "        response = requests.get(url=department.url)\n",
    "        print(response.status_code, department.name )\n",
    "        if response.status_code == 200:\n",
    "            break\n",
    "        sleep(5)\n",
    "    ## Despues de que la petición es aceptada nosotros mandamos ese response text\n",
    "    ## Lo preparamos para la extracción\n",
    "    ## Nota se tiene que modificar y mejor utilizar una lista de urls ya que cuenta con los diferentes urls y no utiliza la converción  de\n",
    "    ## URL.com.mx/endpoint=no_pagina\n",
    "    department.setSoup(response.text)\n",
    "    department.getPageNumber()\n",
    "    department.getAllElements()\n"
   ]
  },
  {
   "cell_type": "markdown",
   "metadata": {},
   "source": [
    "## Guardando la data en la DB"
   ]
  },
  {
   "cell_type": "code",
   "execution_count": null,
   "metadata": {},
   "outputs": [],
   "source": [
    "from sqlalchemy.orm import Session, sessionmaker\n",
    "\n",
    "Session = sessionmaker(bind=engine)\n",
    "session = Session()\n",
    "engine = create_engine('sqlite:///top.db', echo=True)\n",
    "\n",
    "\n",
    "for department in department_list:\n",
    "    session.add_all(department.products)\n",
    "\n",
    "    session.commit()\n",
    "\n"
   ]
  },
  {
   "cell_type": "markdown",
   "metadata": {},
   "source": [
    "### Formato de df"
   ]
  },
  {
   "cell_type": "code",
   "execution_count": null,
   "metadata": {},
   "outputs": [],
   "source": [
    "records = []\n",
    "for department in department_list:\n",
    "    for product in department.products:\n",
    "        records.append(product.to_dict())\n",
    "records"
   ]
  },
  {
   "cell_type": "code",
   "execution_count": null,
   "metadata": {},
   "outputs": [],
   "source": [
    "df = pd.DataFrame.from_records(records)\n",
    "df.drop_duplicates()"
   ]
  },
  {
   "cell_type": "code",
   "execution_count": null,
   "metadata": {},
   "outputs": [],
   "source": [
    "['pagina anterior',1,2,3,4,'pagina siguiente'][2:-1]"
   ]
  },
  {
   "cell_type": "code",
   "execution_count": null,
   "metadata": {},
   "outputs": [],
   "source": []
  }
 ],
 "metadata": {
  "kernelspec": {
   "display_name": "venv",
   "language": "python",
   "name": "python3"
  },
  "language_info": {
   "codemirror_mode": {
    "name": "ipython",
    "version": 3
   },
   "file_extension": ".py",
   "mimetype": "text/x-python",
   "name": "python",
   "nbconvert_exporter": "python",
   "pygments_lexer": "ipython3",
   "version": "3.10.0"
  }
 },
 "nbformat": 4,
 "nbformat_minor": 2
}
